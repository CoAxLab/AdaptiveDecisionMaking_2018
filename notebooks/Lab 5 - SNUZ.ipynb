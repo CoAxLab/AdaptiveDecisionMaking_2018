{
 "cells": [
  {
   "cell_type": "code",
   "execution_count": null,
   "metadata": {},
   "outputs": [],
   "source": [
    "from ADMCode import visualize as vis\n",
    "from ADMCode import snuz\n",
    "import numpy as np\n",
    "import pandas as pd\n",
    "\n",
    "import matplotlib.pyplot as plt\n",
    "import seaborn as sns\n",
    "import warnings\n",
    "\n",
    "warnings.simplefilter('ignore', np.RankWarning)\n",
    "warnings.filterwarnings(\"ignore\", module=\"matplotlib\")\n",
    "warnings.filterwarnings(\"ignore\")\n",
    "sns.set(style='white', font_scale=1.3)\n",
    "\n",
    "%matplotlib inline\n",
    "%config InlineBackend.figure_format = 'png'\n",
    "%config InlineBackend.savefig.dpi = 150"
   ]
  },
  {
   "cell_type": "markdown",
   "metadata": {},
   "source": [
    "# SNUZ - white noise to drive _and_ relax you!\n",
    "\n",
    "> Arrive at your destination safely, comfortably, amd well rested. We combine state-of-the-art methods in random search to get you safely to your destination. Using random methods let's us simultanously generate efficient routes, and high quality (mandatory) white noise on your journey -- acroos the town or across the country.\n",
    "\n",
    "In this lab an autonomous car will learn to drive up a hill. We'll compare random search ([ARS](https://arxiv.org/abs/1803.07055)) to Proximal Policy Optimization ([PPO](https://blog.openai.com/openai-baselines-ppo/)).\n",
    "\n",
    "# Aims\n",
    "1. Install pytorch, et al\n",
    "2. Answer the question: does random search do better than a state of the are RL method in one of the simplest continuous control tasks?\n",
    "3. First ever direct _class-to-Uber acquirehire_."
   ]
  },
  {
   "cell_type": "markdown",
   "metadata": {},
   "source": [
    "# Install\n",
    "From the command line, run:\n",
    "\n",
    "`pip install gym`\n",
    "\n",
    "`pip install ray`\n",
    "\n",
    "`pip install opencv-python`\n",
    "    \n",
    "Then for your OS, do:\n",
    "\n",
    "## Mac\n",
    "`conda install pytorch torchvision -c pytorch`\n",
    "## Linux\n",
    "`conda install pytorch torchvision -c pytorch`\n",
    "## Windows\n",
    "`conda install pytorch -c pytorch`\n",
    "\n",
    "`pip3 install torchvision`"
   ]
  },
  {
   "cell_type": "markdown",
   "metadata": {},
   "source": [
    "# Task\n",
    "\n",
    "We're going to teaching a car to drive up a hill!  This is the `MountainCarContinuous-v0` from the OpenAI [gym].(https://gym.openai.com)\n",
    "\n",
    "![car](images/car.gif)"
   ]
  },
  {
   "cell_type": "markdown",
   "metadata": {},
   "source": [
    "# Vrooooom!"
   ]
  },
  {
   "cell_type": "code",
   "execution_count": null,
   "metadata": {},
   "outputs": [],
   "source": [
    "from ADMCode.snuz import run_ppo"
   ]
  }
 ],
 "metadata": {
  "kernelspec": {
   "display_name": "Python 3",
   "language": "python",
   "name": "python3"
  },
  "language_info": {
   "codemirror_mode": {
    "name": "ipython",
    "version": 3
   },
   "file_extension": ".py",
   "mimetype": "text/x-python",
   "name": "python",
   "nbconvert_exporter": "python",
   "pygments_lexer": "ipython3",
   "version": "3.7.0"
  }
 },
 "nbformat": 4,
 "nbformat_minor": 2
}
