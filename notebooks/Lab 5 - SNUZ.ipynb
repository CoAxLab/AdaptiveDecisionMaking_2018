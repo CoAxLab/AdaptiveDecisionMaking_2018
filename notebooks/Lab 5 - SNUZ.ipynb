{
 "cells": [
  {
   "cell_type": "code",
   "execution_count": 2,
   "metadata": {},
   "outputs": [
    {
     "ename": "ModuleNotFoundError",
     "evalue": "No module named 'ADMCode'",
     "output_type": "error",
     "traceback": [
      "\u001b[0;31m---------------------------------------------------------------------------\u001b[0m",
      "\u001b[0;31mModuleNotFoundError\u001b[0m                       Traceback (most recent call last)",
      "\u001b[0;32m<ipython-input-2-23c834bbbd74>\u001b[0m in \u001b[0;36m<module>\u001b[0;34m()\u001b[0m\n\u001b[0;32m----> 1\u001b[0;31m \u001b[0;32mfrom\u001b[0m \u001b[0mADMCode\u001b[0m \u001b[0;32mimport\u001b[0m \u001b[0mvisualize\u001b[0m \u001b[0;32mas\u001b[0m \u001b[0mvis\u001b[0m\u001b[0;34m\u001b[0m\u001b[0m\n\u001b[0m\u001b[1;32m      2\u001b[0m \u001b[0;32mfrom\u001b[0m \u001b[0mADMCode\u001b[0m\u001b[0;34m.\u001b[0m\u001b[0msnuz\u001b[0m \u001b[0;32mimport\u001b[0m \u001b[0mrun_ppo\u001b[0m\u001b[0;34m\u001b[0m\u001b[0m\n\u001b[1;32m      3\u001b[0m \u001b[0;32mfrom\u001b[0m \u001b[0mADMCode\u001b[0m\u001b[0;34m.\u001b[0m\u001b[0msnuz\u001b[0m \u001b[0;32mimport\u001b[0m \u001b[0mrun_ars\u001b[0m\u001b[0;34m\u001b[0m\u001b[0m\n\u001b[1;32m      4\u001b[0m \u001b[0;32mimport\u001b[0m \u001b[0mnumpy\u001b[0m \u001b[0;32mas\u001b[0m \u001b[0mnp\u001b[0m\u001b[0;34m\u001b[0m\u001b[0m\n\u001b[1;32m      5\u001b[0m \u001b[0;32mimport\u001b[0m \u001b[0mpandas\u001b[0m \u001b[0;32mas\u001b[0m \u001b[0mpd\u001b[0m\u001b[0;34m\u001b[0m\u001b[0m\n",
      "\u001b[0;31mModuleNotFoundError\u001b[0m: No module named 'ADMCode'"
     ]
    }
   ],
   "source": [
    "from ADMCode import visualize as vis\n",
    "from ADMCode.snuz import run_ppo\n",
    "from ADMCode.snuz import run_ars\n",
    "import numpy as np\n",
    "import pandas as pd\n",
    "\n",
    "import matplotlib.pyplot as plt\n",
    "import seaborn as sns\n",
    "import warnings\n",
    "\n",
    "warnings.simplefilter('ignore', np.RankWarning)\n",
    "warnings.filterwarnings(\"ignore\", module=\"matplotlib\")\n",
    "warnings.filterwarnings(\"ignore\")\n",
    "sns.set(style='white', font_scale=1.3)\n",
    "\n",
    "%matplotlib inline\n",
    "%config InlineBackend.figure_format = 'png'\n",
    "%config InlineBackend.savefig.dpi = 150"
   ]
  },
  {
   "cell_type": "markdown",
   "metadata": {},
   "source": [
    "# SNUZ - white noise to drive _and_ relax you!\n",
    "\n",
    "> Arrive at your destination safely, comfortably, amd well rested. We combine state-of-the-art methods in random search to get you safely to your destination. Using random methods let's us simultanously generate efficient routes, and high quality (mandatory) white noise on your journey -- acroos the town or across the country.\n",
    "\n",
    "In this lab an autonomous car will learn to drive up a hill. We'll compare random search ([ARS](https://arxiv.org/abs/1803.07055)) to Proximal Policy Optimization ([PPO](https://blog.openai.com/openai-baselines-ppo/)).\n",
    "\n",
    "# Aims\n",
    "1. Install pytorch, et al\n",
    "2. Answer the question: does random search do better than a state of the are RL method in ...one of the simplest continuous control tasks?\n",
    "3. _Acquirehire_."
   ]
  },
  {
   "cell_type": "markdown",
   "metadata": {},
   "source": [
    "# Install\n",
    "From the command line, run:\n",
    "\n",
    "`pip install gym`\n",
    "\n",
    "`pip install ray`\n",
    "\n",
    "`pip install opencv-python`\n",
    "    \n",
    "Then for your OS, do:\n",
    "\n",
    "## Mac\n",
    "`conda install pytorch torchvision -c pytorch`\n",
    "## Linux\n",
    "`conda install pytorch torchvision -c pytorch`\n",
    "## Windows\n",
    "`conda install pytorch -c pytorch`\n",
    "\n",
    "`pip3 install torchvision`"
   ]
  },
  {
   "cell_type": "markdown",
   "metadata": {},
   "source": [
    "# Task\n",
    "\n",
    "We're going to teaching a car to drive up a hill!  This is the `MountainCarContinuous-v0` from the OpenAI [gym].(https://gym.openai.com)\n",
    "\n",
    "![car](images/car.gif)"
   ]
  },
  {
   "cell_type": "markdown",
   "metadata": {},
   "source": [
    "# Vrooooom!\n",
    "\n",
    "## PPO"
   ]
  },
  {
   "cell_type": "code",
   "execution_count": 1,
   "metadata": {},
   "outputs": [
    {
     "ename": "ModuleNotFoundError",
     "evalue": "No module named 'ADMCode'",
     "output_type": "error",
     "traceback": [
      "\u001b[0;31m---------------------------------------------------------------------------\u001b[0m",
      "\u001b[0;31mModuleNotFoundError\u001b[0m                       Traceback (most recent call last)",
      "\u001b[0;32m<ipython-input-1-a4452347722c>\u001b[0m in \u001b[0;36m<module>\u001b[0;34m()\u001b[0m\n\u001b[0;32m----> 1\u001b[0;31m \u001b[0;32mfrom\u001b[0m \u001b[0mADMCode\u001b[0m\u001b[0;34m.\u001b[0m\u001b[0msnuz\u001b[0m \u001b[0;32mimport\u001b[0m \u001b[0mrun_ppo\u001b[0m\u001b[0;34m\u001b[0m\u001b[0m\n\u001b[0m",
      "\u001b[0;31mModuleNotFoundError\u001b[0m: No module named 'ADMCode'"
     ]
    }
   ],
   "source": [
    "run_ppo(render=True, num_episodes=10)"
   ]
  },
  {
   "cell_type": "markdown",
   "metadata": {},
   "source": [
    "## ARS\n",
    "\n",
    "The ARS code was modified from Recht's [original source](https://github.com/modestyachts/ARS). As a result, it depends on the (too heavy for our use) distributed work library [ray](). To get rays running, we'll need to run a couple commands from the command line. \n",
    "\n",
    "Doing this _might_ work from your Notebook. Try:"
   ]
  },
  {
   "cell_type": "code",
   "execution_count": 3,
   "metadata": {},
   "outputs": [
    {
     "name": "stdout",
     "output_type": "stream",
     "text": [
      "Using IP address 128.237.134.27 for this node.\n",
      "Process STDOUT and STDERR is being redirected to /tmp/raylogs/.\n",
      "Waiting for redis server at 127.0.0.1:6379 to respond...\n",
      "Waiting for redis server at 127.0.0.1:33343 to respond...\n",
      "Starting the Plasma object store with 13.00 GB memory.\n",
      "Starting local scheduler with the following resources: {'CPU': 4, 'GPU': 0}.\n",
      "\n",
      "======================================================================\n",
      "View the web UI at http://localhost:8889/notebooks/ray_ui3142.ipynb?token=99cd50ed6ff355dae944c18bf0ef897b9e92ca0ae01420ca\n",
      "======================================================================\n",
      "\n",
      "{'node_ip_address': '128.237.134.27', 'redis_address': '128.237.134.27:6379', 'object_store_addresses': [ObjectStoreAddress(name='/tmp/plasma_store18303182', manager_name='/tmp/plasma_manager31011031', manager_port=51228)], 'local_scheduler_socket_names': ['/tmp/scheduler74799067'], 'raylet_socket_names': [], 'webui_url': 'http://localhost:8889/notebooks/ray_ui3142.ipynb?token=99cd50ed6ff355dae944c18bf0ef897b9e92ca0ae01420ca'}\n",
      "\n",
      "Started Ray on this node. You can add additional nodes to the cluster by calling\n",
      "\n",
      "    ray start --redis-address 128.237.134.27:6379\n",
      "\n",
      "from the node you wish to add. You can connect a driver to the cluster from Python by running\n",
      "\n",
      "    import ray\n",
      "    ray.init(redis_address=\"128.237.134.27:6379\")\n",
      "\n",
      "If you have trouble connecting from a different machine, check that your firewall is configured properly. If you wish to terminate the processes that have been started, run\n",
      "\n",
      "    ray stop\n"
     ]
    }
   ],
   "source": [
    "!ray start --head --redis-port=6379 --num-workers=1"
   ]
  },
  {
   "cell_type": "code",
   "execution_count": 4,
   "metadata": {},
   "outputs": [],
   "source": [
    "!export MKL_NUM_THREADS=1"
   ]
  },
  {
   "cell_type": "markdown",
   "metadata": {},
   "source": [
    "If you got errors, running the above on the command line directly, removing the '!' at the start. \n",
    "\n",
    "...\n",
    "\n",
    "If that doesn't work: stamp your feet in anger, cry a little (if needed) and ask for help."
   ]
  },
  {
   "cell_type": "markdown",
   "metadata": {},
   "source": [
    "## Random vrooom!\n",
    "\n",
    "With the prelimimanries out of the way, we can now run ARS."
   ]
  },
  {
   "cell_type": "code",
   "execution_count": null,
   "metadata": {},
   "outputs": [],
   "source": []
  },
  {
   "cell_type": "code",
   "execution_count": null,
   "metadata": {},
   "outputs": [],
   "source": []
  },
  {
   "cell_type": "code",
   "execution_count": null,
   "metadata": {},
   "outputs": [],
   "source": []
  }
 ],
 "metadata": {
  "kernelspec": {
   "display_name": "Python 3",
   "language": "python",
   "name": "python3"
  },
  "language_info": {
   "codemirror_mode": {
    "name": "ipython",
    "version": 3
   },
   "file_extension": ".py",
   "mimetype": "text/x-python",
   "name": "python",
   "nbconvert_exporter": "python",
   "pygments_lexer": "ipython3",
   "version": "3.7.0"
  }
 },
 "nbformat": 4,
 "nbformat_minor": 2
}
