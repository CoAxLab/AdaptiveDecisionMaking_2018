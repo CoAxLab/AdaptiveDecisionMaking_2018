{
 "cells": [
  {
   "cell_type": "markdown",
   "metadata": {},
   "source": [
    "# Homework 4: Believer-Skeptic Model"
   ]
  },
  {
   "cell_type": "code",
   "execution_count": 5,
   "metadata": {
    "slideshow": {
     "slide_type": "skip"
    }
   },
   "outputs": [],
   "source": [
    "from __future__ import division\n",
    "import ADMCode\n",
    "from ADMCode import visualize as vis\n",
    "from ADMCode import believer_skeptic\n",
    "\n",
    "import numpy as np\n",
    "from numpy.random import sample as rs\n",
    "import pandas as pd\n",
    "import sys\n",
    "import os\n",
    "\n",
    "# from ipywidgets import interactive\n",
    "import matplotlib.pyplot as plt\n",
    "import seaborn as sns\n",
    "import warnings\n",
    "\n",
    "# Temporary for now until push changes to PIP \n",
    "#sys.path.insert(0,'../ADMCode')\n",
    "#import believer_skeptic\n",
    "\n",
    "warnings.simplefilter('ignore', np.RankWarning)\n",
    "warnings.filterwarnings(\"ignore\", module=\"matplotlib\")\n",
    "warnings.filterwarnings(\"ignore\")\n",
    "sns.set(style='white', font_scale=1.3)\n",
    "\n",
    "%matplotlib inline"
   ]
  },
  {
   "cell_type": "markdown",
   "metadata": {},
   "source": [
    "## **Question 1:**  "
   ]
  },
  {
   "cell_type": "markdown",
   "metadata": {
    "slideshow": {
     "slide_type": "slide"
    }
   },
   "source": [
    "**Answer the following questions about the relationship between the system of equations below.** See the Lab 4 notebook for definition of terms. "
   ]
  },
  {
   "cell_type": "markdown",
   "metadata": {
    "slideshow": {
     "slide_type": "fragment"
    }
   },
   "source": [
    "\n",
    "* **Eq. 1**: Go process. $$G_{j,t}(\\tau) = G_{j,t}(\\tau - \\Delta \\tau) + \\upsilon ^G _{j,t} \\Delta \\tau + \\epsilon^G_j (\\tau)$$\n",
    "\n",
    "* **Eq. 2**: No go process. $$N_{j,t}(\\tau) = N_{j,t}(\\tau - \\Delta \\tau) + \\upsilon ^N _{j,t} \\Delta \\tau + \\epsilon^N_j (\\tau)$$\n",
    "\n",
    "* **Eq. 3**: Execution process. $$\\theta_{j,t}(\\tau) = [G_{j,t}(\\tau) - N_{j,t}(\\tau)] \\cdot cosh(\\gamma \\cdot \\tau)$$\n",
    "\n"
   ]
  },
  {
   "cell_type": "markdown",
   "metadata": {
    "slideshow": {
     "slide_type": "slide"
    }
   },
   "source": [
    "\n",
    "**1a:** Describe the three components of Eqs. 1 & 2 in laymen's terms.\n",
    "\n",
    "* **Answer 1a:** \n",
    "\n",
    "\n",
    "\n",
    "**1b:** As time ($\\tau$) progresses, how does the exponential term in Eq. 3 ($\\cosh (\\gamma \\cdot \\tau)$) influence the nature of the competition between channels?\n",
    "\n",
    "* **Answer 1b:** \n",
    "\n"
   ]
  },
  {
   "cell_type": "markdown",
   "metadata": {},
   "source": [
    "## **Question 2:**  "
   ]
  },
  {
   "cell_type": "markdown",
   "metadata": {},
   "source": [
    "**Answer the following questions about the relationship between the system of equations below.**"
   ]
  },
  {
   "cell_type": "markdown",
   "metadata": {},
   "source": [
    "* **Eq. 4**: Action value. $$q_j(t+1) = q_j(t) + \\alpha \\cdot [r(t) - q_j(t)]$$\n",
    "\n",
    "* **Eq. 5**: Greediness. $$p_j(t) = \\frac{\\exp{\\beta \\cdot q_j(t)}}{\\Sigma^n_i \\exp{\\beta \\cdot q_i(t)}}$$\n",
    "\n",
    "* **Eq. 6**: (Reward) prediction error. $$\\delta_j(t) = p_j(t) - p_j(t-1)$$\n",
    "\n",
    "* **Eq. 7**: Update rule: $$\\upsilon^{G/N}_{j,t+1} = \\upsilon^{G/N}_{j,t} + \\alpha^{G/N} \\cdot \\delta_j(t)$$"
   ]
  },
  {
   "cell_type": "markdown",
   "metadata": {},
   "source": [
    "**2a:** How is the estimation of the prediction error (Eq. 6) different than the normative form of the update rule in q-learning?\n",
    "* **Answer 2a:** \n",
    "\n",
    "**2b:** In the Believer-Skeptic model, the Go & NoGo processes have different learning rates (i.e., $\\alpha^G$ & $\\alpha^N$). What biological justification is there for these two pathways having different forms of learning?\n",
    "* **Answer 2b:** \n",
    "\n"
   ]
  },
  {
   "cell_type": "markdown",
   "metadata": {},
   "source": [
    "## ** Question 3: **"
   ]
  },
  {
   "cell_type": "code",
   "execution_count": 6,
   "metadata": {
    "slideshow": {
     "slide_type": "fragment"
    }
   },
   "outputs": [
    {
     "name": "stdout",
     "output_type": "stream",
     "text": [
      "0.62884\n"
     ]
    },
    {
     "data": {
      "text/plain": [
       "0.0    18\n",
       "1.0    13\n",
       "2.0    33\n",
       "3.0    36\n",
       "Name: choice, dtype: int64"
      ]
     },
     "execution_count": 6,
     "metadata": {},
     "output_type": "execute_result"
    }
   ],
   "source": [
    "# Define the DDM parameters as an object to pass\n",
    "p={'vd':np.asarray([.7]*4), 'vi':np.asarray([.25]*4), 'a':.25, 'tr':.3, 'xb':.00005}\n",
    "\n",
    "# Learning rates on the Go (direct) and NoGo (indirect) pathways\n",
    "aGo=.1\n",
    "aNo=.1\n",
    "\n",
    "# Run one simulation\n",
    "igtData = pd.read_csv(\"https://github.com/CoAxLab/AdaptiveDecisionMaking_2018/blob/master/data/IGTCards.csv?raw=true\")\n",
    "\n",
    "outdf, agentdf = believer_skeptic.play_IGT(p, feedback=igtData, beta=.09, nblocks=2, \n",
    "                          alphaGo=aGo, alphaNo=aNo, singleProcess=0)\n",
    "\n",
    "print(agentdf.rt.mean())\n",
    "agentdf.iloc[:, :].choice.value_counts().sort_index()"
   ]
  },
  {
   "cell_type": "markdown",
   "metadata": {},
   "source": [
    "The Iowa Gambling task has two general metrics for estimating performance of the agent.\n",
    "\n",
    "<br>\n",
    "\n",
    "**Payoff (P)** is the degree to which the agent chooses the High Value decks over the Low Value decks. Th\\\n",
    "is is a measure of efficient value-based decision-making.\n",
    "\n",
    "P = $\\Sigma (C + D) - \\Sigma (A + B)$\n",
    "\n",
    "**Sensitivity (Q)** is the sensitivity of the agent to High Frequency rewards over Low Frequency rewards.\n",
    "\n",
    "Q = $\\Sigma (B + D) - \\Sigma (A + C)$\n",
    "\n",
    "(In the simulations above Deck A is choice 0, Deck B is choice 1, Deck C is choice 2, and Deck D is choice 3)."
   ]
  },
  {
   "cell_type": "markdown",
   "metadata": {
    "slideshow": {
     "slide_type": "slide"
    }
   },
   "source": [
    "**Q3:** From the agent dataframe (agentdf) run in the code cell above, calculate P & Q."
   ]
  },
  {
   "cell_type": "code",
   "execution_count": 7,
   "metadata": {
    "scrolled": true,
    "slideshow": {
     "slide_type": "fragment"
    }
   },
   "outputs": [],
   "source": [
    "# CODE FOR ANSWERING Q3"
   ]
  },
  {
   "cell_type": "markdown",
   "metadata": {},
   "source": [
    "## ** Question 4: **"
   ]
  },
  {
   "cell_type": "code",
   "execution_count": 8,
   "metadata": {},
   "outputs": [],
   "source": [
    "# Learning rates on the Go (direct) and NoGo (indirect) pathways\n",
    "aGo=.1\n",
    "aNo=.1\n",
    "\n",
    "outdf, agentdf = believer_skeptic.play_IGT(p, feedback=igtData, beta=.09, nblocks=2, \n",
    "                          alphaGo=aGo, alphaNo=aNo, singleProcess=0)\n",
    "\n",
    "## INSERT CALCULATION CODE FOR PAYOFF & SENSITIVITY FROM QUESTION 3 HERE\n",
    "## TO ANSWER THE QUESTIONS BELOW"
   ]
  },
  {
   "cell_type": "markdown",
   "metadata": {},
   "source": [
    "(To answer the questions below, you may need to repeate several runs of the code above in order to see stability in Payoff & Sensitivity scores). "
   ]
  },
  {
   "cell_type": "markdown",
   "metadata": {},
   "source": [
    "**4a:** Change $\\alpha^N$ (i.e., aNo) above to 0.025, while keeping $\\alpha^G$ (i.e., aGo) at 0.1. How does this impact the Payoff and Sensitivity scores?\n",
    "* **Answer 4a:** \n",
    "\n",
    "\n",
    "**4b:** Put $\\alpha^N$ (i.e., aNo) back to 0.1, while reducing $\\alpha^G$ (i.e., aGo) at 0.05. How does this impact the Payoff and Sensitivity scores?\n",
    "* **Answer 4b:** \n"
   ]
  },
  {
   "cell_type": "markdown",
   "metadata": {
    "slideshow": {
     "slide_type": "slide"
    }
   },
   "source": [
    "## **Bonus Problems**  \n",
    "\n",
    "Full credit is only given if the instructor can run your modified code below.\n",
    "\n",
    "**BP a:** Use the process simulation code below to visualize how varying the drift rate of the Go ($v_d$) and NoGo ($v_i$) processes impacts the dynamics of the four choices.  \n",
    "\n",
    "* **Bonus Answer a:** *copy/paste your modified code into a code cell below* \n",
    "\n",
    "**BP b:** Write a set of nested for-loops to simulate a set of agent runs with $\\alpha^N$ values ranging from 0.025 to 0.15 (in increments of 0.005), keeping $\\alpha^G$. Simulate 100 runs per value of $\\alpha^N$ and report (or visualize) the average Payoff & Sensitivity score. Report how these values are impacted by different levels of $\\alpha^N$. \n",
    "* **Bonus Answer b:** *copy/paste your modified code into a code cell below* \n",
    "\n",
    "\n",
    "**BP c:** Repeat the simulations from Bonus Problem b above but now increase $v_i$ to 0.5. How does this change the results?\n",
    "* **Bonus Answer c:** *copy/paste your modified code into a code cell below* "
   ]
  },
  {
   "cell_type": "markdown",
   "metadata": {
    "slideshow": {
     "slide_type": "slide"
    }
   },
   "source": [
    "## ** Process Code **"
   ]
  },
  {
   "cell_type": "code",
   "execution_count": 9,
   "metadata": {
    "slideshow": {
     "slide_type": "fragment"
    }
   },
   "outputs": [
    {
     "name": "stdout",
     "output_type": "stream",
     "text": [
      "2\n"
     ]
    },
    {
     "data": {
      "image/png": "[encoded data removed]",
      "text/plain": [
       "<matplotlib.figure.Figure at 0x10c175dd8>"
      ]
     },
     "metadata": {},
     "output_type": "display_data"
    }
   ],
   "source": [
    "# This is a snippet from believer_skeptic.py, specifically the \n",
    "# simulate_multirace function.\n",
    "single_process=0 \n",
    "si=.1\n",
    "tb=1.0\n",
    "dt=.001\n",
    "nresp = p['vd'].size\n",
    "dx = si * np.sqrt(dt)\n",
    "nTime = np.ceil((tb-p['tr'])/dt).astype(int)\n",
    "xtb = believer_skeptic.temporal_dynamics(p, np.cumsum([dt]*nTime))\n",
    "\n",
    "# Run the process model\n",
    "Pd = .5 * (1 + (p['vd'] * np.sqrt(dt))/si)\n",
    "Pi = .5 * (1 + (p['vi'] * np.sqrt(dt))/si)\n",
    "direct = xtb * np.where((rs((nresp, nTime)).T < Pd),dx,-dx).T\n",
    "indirect = np.where((rs((nresp, nTime)).T < Pi),dx,-dx).T\n",
    "execution = np.cumsum(direct-indirect, axis=1)\n",
    "\n",
    "act_ix, rt, rt_ix = believer_skeptic.analyze_multiresponse(execution, p)    \n",
    "\n",
    "nsteps_to_rt = np.argmax((execution.T>=p['a']).T, axis=1)\n",
    "rts = p['tr'] + nsteps_to_rt*dt\n",
    "\n",
    "# set non responses to 999\n",
    "rts[rts==p['tr']]=999\n",
    "\n",
    "# get accumulator with fastest RT (winner) in each cond\n",
    "act_ix = np.argmin(rts)\n",
    "winner, rt=act_ix, rts[act_ix]\n",
    "rt_ix = np.ceil((rt-p['tr'])/dt).astype(int)\n",
    "actions = np.arange(nresp)\n",
    "losers = actions[actions!=act_ix]\n",
    "print(act_ix)\n",
    "plt.plot(execution[act_ix][:rt_ix], color='b')\n",
    "for l in losers:\n",
    "    plt.plot(execution[l][:rt_ix], color='r', alpha=.3)\n",
    "sns.despine()"
   ]
  }
 ],
 "metadata": {
  "kernelspec": {
   "display_name": "Python 3",
   "language": "python",
   "name": "python3"
  },
  "language_info": {
   "codemirror_mode": {
    "name": "ipython",
    "version": 3
   },
   "file_extension": ".py",
   "mimetype": "text/x-python",
   "name": "python",
   "nbconvert_exporter": "python",
   "pygments_lexer": "ipython3",
   "version": "3.6.2"
  },
  "latex_envs": {
   "LaTeX_envs_menu_present": true,
   "autocomplete": true,
   "bibliofile": "biblio.bib",
   "cite_by": "apalike",
   "current_citInitial": 1,
   "eqLabelWithNumbers": true,
   "eqNumInitial": 1,
   "hotkeys": {
    "equation": "Ctrl-E",
    "itemize": "Ctrl-I"
   },
   "labels_anchors": false,
   "latex_user_defs": false,
   "report_style_numbering": false,
   "user_envs_cfg": false
  }
 },
 "nbformat": 4,
 "nbformat_minor": 2
}
