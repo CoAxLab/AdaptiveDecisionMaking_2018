{
 "cells": [
  {
   "cell_type": "code",
   "execution_count": 2,
   "metadata": {},
   "outputs": [],
   "source": [
    "from __future__ import division\n",
    "from ADMCode import visualize as vis\n",
    "from ADMCode import ddm, sdt\n",
    "\n",
    "import numpy as np\n",
    "import pandas as pd\n",
    "import numba as nb\n",
    "\n",
    "from ipywidgets import interactive\n",
    "from IPython.display import display, Latex\n",
    "import matplotlib.pyplot as plt\n",
    "%matplotlib inline\n",
    "# from safaribook import safariplot as splot\n",
    "# splot.style('safari-day')\n",
    "sns.set(style='white', font_scale=1.3)"
   ]
  },
  {
   "cell_type": "markdown",
   "metadata": {},
   "source": [
    "# Signal Detection Theory"
   ]
  },
  {
   "cell_type": "code",
   "execution_count": 3,
   "metadata": {
    "scrolled": false
   },
   "outputs": [
    {
     "data": {
      "application/vnd.jupyter.widget-view+json": {
       "model_id": "f925dc7f11274a6683e2d464c51997ea",
       "version_major": 2,
       "version_minor": 0
      },
      "text/html": [
       "<p>Failed to display Jupyter Widget of type <code>interactive</code>.</p>\n",
       "<p>\n",
       "  If you're reading this message in Jupyter Notebook or JupyterLab, it may mean\n",
       "  that the widgets JavaScript is still loading. If this message persists, it\n",
       "  likely means that the widgets JavaScript library is either not installed or\n",
       "  not enabled. See the <a href=\"https://ipywidgets.readthedocs.io/en/stable/user_install.html\">Jupyter\n",
       "  Widgets Documentation</a> for setup instructions.\n",
       "</p>\n",
       "<p>\n",
       "  If you're reading this message in another notebook frontend (for example, a static\n",
       "  rendering on GitHub or <a href=\"https://nbviewer.jupyter.org/\">NBViewer</a>),\n",
       "  it may mean that your frontend doesn't currently support widgets.\n",
       "</p>\n"
      ],
      "text/plain": [
       "interactive(children=(IntSlider(value=100, description='Hits', min=1), IntSlider(value=100, description='Misses', min=1), IntSlider(value=100, description='CR', min=1), IntSlider(value=1, description='FA', min=1), Output(layout=Layout(height='300px'))), _dom_classes=('widget-interact',))"
      ]
     },
     "metadata": {},
     "output_type": "display_data"
    }
   ],
   "source": [
    "interactive_plot = interactive(vis.sdt_interact, Hits=(1,100,1), Misses=(1,100,1), CR=(1,100,1), FA=(1,100,1))\n",
    "output = interactive_plot.children[-1]\n",
    "output.layout.height = '300px'\n",
    "interactive_plot"
   ]
  },
  {
   "cell_type": "markdown",
   "metadata": {},
   "source": [
    "#  Questions: \n",
    "#### (double click on the cells below to edit)"
   ]
  },
  {
   "cell_type": "markdown",
   "metadata": {},
   "source": [
    "#### **Question 1:**  \n",
    "\n",
    "**1a)** Describe the relationship between number of **Misses** and the criterion parameter ($c$) in SDT (use the interactive visualization at the top to help get some intuition). \n",
    "\n",
    "* **Answer 1a:** \n",
    "\n",
    "\n",
    "\n",
    "**1b)** Describe the relationship between number of **Misses** and $d'$. \n",
    "\n",
    "* **Answer 1b:** \n",
    "\n",
    "\n",
    "\n",
    "**1c)** Describe in plain words why $c=\\frac{1}{2}d'$ when the **Hit** and **Miss** counts are equal. \n",
    "\n",
    "* **Answer 1c:** \n",
    "\n"
   ]
  },
  {
   "cell_type": "markdown",
   "metadata": {},
   "source": [
    "#### **Question 2** \n",
    "---\n",
    "\n",
    "In lab, we modeled **signal** and **noise** trials in a \"yes\"/\"no\" experiment in which true \"signals\" caused evidence to accumulate with positive drift ($v_s>0$) and noise cause evidence to accumulate with negative drift ($v_n<0$). In that experiment, the \"subject\" was required to provide a response on every trial - \"yes\" if they detected a signal and \"no\" if they only detected noise. \n",
    "\n",
    "There are many real world examples of a similar, but slightly different behavioral task - in which an action (i.e., reporting \"yes\") is ONLY required if a signal is detected and to simply withhold responding otherwise. \n",
    "\n",
    "Think about the radar example: a person monitoring a radar screen for enemy ships has the single goal to launch a missile if and only if they detect an enemy ship (\"signal\"). and to withhold their response otherwise.  \n",
    "\n",
    "\n",
    "---\n",
    "**2a** Describe how you would modify the parameters of the DDM to formally model this simple detection experiment. You can remove or add any parameters but must provide a reasonable justification for your proposed modifications. Remember, adding too many parameters will make your model intractable and you should try to seek an elegant solution (e.g., avoid unnecessary complexity)\n",
    "\n",
    "* **Answer 2a:** \n",
    "\n",
    "\n",
    "\n",
    "\n",
    "**2b)** What behavioral measures would be of interest when fitting your modified DDM to experimental data collected on this task? How would you have to modify the cost function of the DDM to fit your model to this dataset? (e.g., minimizing the $\\chi^2$ between experimental and simulated RT quantiles)\n",
    "\n",
    " \n",
    "* **Answer 2b:** \n"
   ]
  },
  {
   "cell_type": "markdown",
   "metadata": {},
   "source": [
    "#### **Bonus Problem**  \n",
    "\n",
    "**a)** Modify the `sim_ddm()` function (under the \"Drift Diffusion Model\" header below) to implement the model you proposed in your answer to **Question 2a**.\n",
    "\n",
    "* **Bonus Answer a:** *copy/paste your modified code into a code cell below* \n",
    "\n",
    "**b)** Run a set of simulations with your modified `sim_ddm()` function with no errors.\n",
    "\n",
    "* **Bonus Answer b:** *you get credit if I can run your modified code*"
   ]
  },
  {
   "cell_type": "markdown",
   "metadata": {},
   "source": [
    "# Drift-Diffusion Model"
   ]
  },
  {
   "cell_type": "code",
   "execution_count": 34,
   "metadata": {},
   "outputs": [],
   "source": [
    "from numpy.random import random_sample\n",
    "\n",
    "def sim_ddm(parameters, deadline=2.0):\n",
    "    \"\"\"\n",
    "    ::Arguments::\n",
    "        parameters: 1d array (Nparams) of DDM parameters\n",
    "            a: boundary height\n",
    "            tr: non-decision time\n",
    "            v: drift-rate\n",
    "            z: starting point (frac of a; 0.0 < z < 1.0)\n",
    "            si: diffusion constant (sigma param in DDM equation from lecture)\n",
    "            dx: step-size of evidence\n",
    "            dt: time step\n",
    "        rProb: 1d array (Ntimesteps) of random floats between 0 and 1\n",
    "        trace: 1d array (Ntimesteps) for storing the evidence trace\n",
    "    \n",
    "    ::Returns::\n",
    "        RT (float): the time that evidence crossed one of the boundaries\n",
    "        choice: 1 if evidence terminated at upper bound, 0 if lower bound\n",
    "    \"\"\"\n",
    "    \n",
    "    # extract parameters\n",
    "    a, tr, v, z, si, dx, dt = parameters\n",
    "    \n",
    "    # convert drift-rate into a probability, \n",
    "    # & scale by sigma (si) and timestep (dt)\n",
    "    # if v > 0, then 0.5 < vProb < 1.0\n",
    "    # if v < 0, then 0.0 < vProb < 0.5\n",
    "    vProb = .5 * (1 + (v * np.sqrt(dt))/si)\n",
    "    # define starting point with respect to boundary height\n",
    "    zStart = z * a\n",
    "    #initialize evidence variable at zStart\n",
    "    evidence = zStart\n",
    "    max_steps = int(deadline / dt)\n",
    "    trace = np.zeros(max_steps)\n",
    "    trace[0] = evidence\n",
    "    \n",
    "    # define deadline (max time allowed for accumulation)\n",
    "    #deadline = trace.size\n",
    "\n",
    "    for nsteps in range(1, max_steps):\n",
    "        # sample a random probability (r) and compare w/ vProb\n",
    "        if random_sample() < vProb:\n",
    "            # if r < vProb, step evidence up (towards a)\n",
    "            evidence += dx\n",
    "        else:\n",
    "            # if r > vProb, step evidence down (towards 0)\n",
    "            evidence -= dx\n",
    "        # store new value of evidence at current timestep\n",
    "        trace[nsteps] = evidence\n",
    "\n",
    "        # check if new value of evidence crossed bound\n",
    "        if evidence >= a:\n",
    "            # calculate RT (in milliseconds)\n",
    "            rt = tr + (nsteps * dt)\n",
    "            # set choice to 1.0 (upper bound)\n",
    "            choice = 1.0\n",
    "            # terminate simulation\n",
    "            break\n",
    "\n",
    "        elif evidence <= 0:\n",
    "            # calculate RT (in milliseconds)\n",
    "            rt = tr + (nsteps * dt)\n",
    "            # set choice to 0.0 (lower bound)\n",
    "            choice = 0.0\n",
    "            # terminate simulation\n",
    "            break\n",
    "            \n",
    "    plt.plot(trace[:nsteps+1])\n",
    "    return rt, choice"
   ]
  },
  {
   "cell_type": "markdown",
   "metadata": {},
   "source": [
    "# Define Parameters"
   ]
  },
  {
   "cell_type": "code",
   "execution_count": 4,
   "metadata": {},
   "outputs": [],
   "source": [
    "a = .15 # boundary height\n",
    "v = .24 # strong drift-rate\n",
    "tr = .25 # nondecision time (in seconds)\n",
    "z = .5 # starting point ([0,1], fraction of a)\n",
    "\n",
    "dt = .001 # time step\n",
    "si = .1 # sigma (noise scalar)\n",
    "dx = si * np.sqrt(dt) # evidence step\n",
    "deadline = 1.75 # max decision time\n",
    "ntime = np.int(np.floor(deadline / dt)) # time limit for decision\n",
    "ntrials = 1000 # number of trials to simulate\n",
    "\n",
    "parameters = np.array([a, tr, v, z, si, dx, dt])"
   ]
  },
  {
   "cell_type": "markdown",
   "metadata": {},
   "source": [
    "# Test Simulations"
   ]
  },
  {
   "cell_type": "code",
   "execution_count": 35,
   "metadata": {},
   "outputs": [
    {
     "name": "stdout",
     "output_type": "stream",
     "text": [
      "RT = 796 ms\n",
      "Choice = 1.0\n"
     ]
    },
    {
     "data": {
      "image/png": "[encoded data removed]",
      "text/plain": [
       "<matplotlib.figure.Figure at 0x117b8f710>"
      ]
     },
     "metadata": {
      "image/png": {
       "height": 250,
       "width": 381
      }
     },
     "output_type": "display_data"
    }
   ],
   "source": [
    "rt, choice = sim_ddm(parameters)\n",
    "print(\"RT = {:.0f} ms\".format(rt/dt))\n",
    "print(\"Choice = {}\".format(choice))"
   ]
  },
  {
   "cell_type": "code",
   "execution_count": null,
   "metadata": {},
   "outputs": [],
   "source": []
  }
 ],
 "metadata": {
  "kernelspec": {
   "display_name": "Python 3",
   "language": "python",
   "name": "python3"
  },
  "language_info": {
   "codemirror_mode": {
    "name": "ipython",
    "version": 3
   },
   "file_extension": ".py",
   "mimetype": "text/x-python",
   "name": "python",
   "nbconvert_exporter": "python",
   "pygments_lexer": "ipython3",
   "version": "3.6.0"
  },
  "latex_envs": {
   "LaTeX_envs_menu_present": true,
   "autocomplete": true,
   "bibliofile": "biblio.bib",
   "cite_by": "apalike",
   "current_citInitial": 1,
   "eqLabelWithNumbers": true,
   "eqNumInitial": 1,
   "hotkeys": {
    "equation": "Ctrl-E",
    "itemize": "Ctrl-I"
   },
   "labels_anchors": false,
   "latex_user_defs": false,
   "report_style_numbering": false,
   "user_envs_cfg": false
  }
 },
 "nbformat": 4,
 "nbformat_minor": 2
}
